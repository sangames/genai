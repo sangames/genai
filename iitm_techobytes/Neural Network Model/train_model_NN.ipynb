{
  "nbformat": 4,
  "nbformat_minor": 0,
  "metadata": {
    "colab": {
      "name": "Untitled6.ipynb",
      "provenance": [],
      "include_colab_link": true
    },
    "kernelspec": {
      "name": "python3",
      "display_name": "Python 3"
    }
  },
  "cells": [
    {
      "cell_type": "markdown",
      "metadata": {
        "id": "view-in-github",
        "colab_type": "text"
      },
      "source": [
        "<a href=\"https://colab.research.google.com/github/sangames/genai/blob/main/iitm_techobytes/Neural%20Network%20Model/train_model_NN.ipynb\" target=\"_parent\"><img src=\"https://colab.research.google.com/assets/colab-badge.svg\" alt=\"Open In Colab\"/></a>"
      ]
    },
    {
      "cell_type": "code",
      "metadata": {
        "id": "25fZh19_Csar"
      },
      "source": [
        "!git clone https://github.com/Jaish19/Artificial-Intelligence.git"
      ],
      "execution_count": null,
      "outputs": []
    },
    {
      "cell_type": "code",
      "metadata": {
        "id": "XgBR5tyJCvr8",
        "colab": {
          "base_uri": "https://localhost:8080/",
          "height": 482
        },
        "outputId": "efe98ae2-f633-4f18-8e5f-c466e3a747db"
      },
      "source": [
        "import pandas as pd\n",
        "from tensorflow.keras.models import Sequential\n",
        "from tensorflow.keras.layers import Conv2D\n",
        "from tensorflow.keras.layers import MaxPool2D\n",
        "from tensorflow.keras.layers import Flatten\n",
        "from tensorflow.keras.layers import Dense\n",
        "from sklearn.model_selection import train_test_split\n",
        "from sklearn.preprocessing import MinMaxScaler\n",
        "import joblib\n",
        "from sklearn.metrics import mean_absolute_error\n",
        "\n",
        "# Disable some useless pandas warnings to prevent some junk from showing up in the output window\n",
        "pd.options.mode.chained_assignment = None\n",
        "\n",
        "# Load our data set\n",
        "df = pd.read_csv(\"/content/Artificial-Intelligence/Neural Network Model/house_data.csv\")\n",
        "\n",
        "# Create the X and y arrays\n",
        "X = df[[\"sq_feet\", \"num_bedrooms\", \"num_bathrooms\"]]\n",
        "y = df[[\"sale_price\"]]\n",
        "\n",
        "# Data needs to be scaled to  0 to 1 for the neural network to train correctly.\n",
        "X_scaler = MinMaxScaler(feature_range=(0, 1))\n",
        "y_scaler = MinMaxScaler(feature_range=(0, 1))\n",
        "\n",
        "# Scale both the training inputs and outputs\n",
        "X[X.columns] = X_scaler.fit_transform(X[X.columns])\n",
        "y[y.columns] = y_scaler.fit_transform(y[y.columns])\n",
        "\n",
        "# Split the data set in a training set (75%) and a test set (25%)\n",
        "X_train, X_test, y_train, y_test = train_test_split(X, y, test_size=0.25)\n",
        "\n",
        "# Create a Neural Network model\n",
        "model = Sequential()\n",
        "model.add(Dense(50, input_dim=3, activation='relu'))\n",
        "model.add(Dense(100, activation='relu'))\n",
        "model.add(Dense(50, activation='relu'))\n",
        "model.add(Dense(1, activation='linear'))\n",
        "model.compile(\n",
        "    loss='mean_squared_error',\n",
        "    optimizer='SGD'\n",
        ")\n",
        "\n",
        "# Train the model\n",
        "model.fit(\n",
        "    X_train,\n",
        "    y_train,\n",
        "    epochs=50,\n",
        "    batch_size=8,\n",
        "    shuffle=True,\n",
        "    verbose=2\n",
        ")\n",
        "\n",
        "# Save the scalers to files so we can use it to pre-process new data later\n",
        "joblib.dump(X_scaler, \"/content/Artificial-Intelligence/Neural Network Model/X_scaler.pkl\")\n",
        "joblib.dump(y_scaler, \"/content/Artificial-Intelligence/Neural Network Model/y_scaler.pkl\")\n",
        "\n",
        "# Save the trained model to a file so we can use it to make predictions later\n",
        "model.save(\"/content/Artificial-Intelligence/Neural Network Model/house_value_model.h5\")\n",
        "\n",
        "# Report how well the model is performing\n",
        "print(\"Model training results:\")\n",
        "\n",
        "# Report mean absolute error on the training set in a value scaled back to dollars so it's easier to understand.\n",
        "predictions_train = model.predict(X_train, verbose=0)\n",
        "\n",
        "mse_train = mean_absolute_error(\n",
        "    y_scaler.inverse_transform(predictions_train),\n",
        "    y_scaler.inverse_transform(y_train)\n",
        ")\n",
        "print(f\" - Training Set Error: {mse_train}\")\n",
        "\n",
        "# Report mean absolute error on the test set in a value scaled back to dollars so it's easier to understand.\n",
        "predictions_test = model.predict(X_test, verbose=0)\n",
        "\n",
        "mse_test = mean_absolute_error(\n",
        "    y_scaler.inverse_transform(predictions_test),\n",
        "    y_scaler.inverse_transform(y_test)\n",
        ")\n",
        "print(f\" - Test Set Error: {mse_test}\")"
      ],
      "execution_count": 2,
      "outputs": [
        {
          "output_type": "error",
          "ename": "ImportError",
          "evalue": "cannot import name 'joblib' from 'sklearn.externals' (/usr/local/lib/python3.10/dist-packages/sklearn/externals/__init__.py)",
          "traceback": [
            "\u001b[0;31m---------------------------------------------------------------------------\u001b[0m",
            "\u001b[0;31mImportError\u001b[0m                               Traceback (most recent call last)",
            "\u001b[0;32m<ipython-input-2-60d9f0bea849>\u001b[0m in \u001b[0;36m<cell line: 9>\u001b[0;34m()\u001b[0m\n\u001b[1;32m      7\u001b[0m \u001b[0;32mfrom\u001b[0m \u001b[0msklearn\u001b[0m\u001b[0;34m.\u001b[0m\u001b[0mmodel_selection\u001b[0m \u001b[0;32mimport\u001b[0m \u001b[0mtrain_test_split\u001b[0m\u001b[0;34m\u001b[0m\u001b[0;34m\u001b[0m\u001b[0m\n\u001b[1;32m      8\u001b[0m \u001b[0;32mfrom\u001b[0m \u001b[0msklearn\u001b[0m\u001b[0;34m.\u001b[0m\u001b[0mpreprocessing\u001b[0m \u001b[0;32mimport\u001b[0m \u001b[0mMinMaxScaler\u001b[0m\u001b[0;34m\u001b[0m\u001b[0;34m\u001b[0m\u001b[0m\n\u001b[0;32m----> 9\u001b[0;31m \u001b[0;32mfrom\u001b[0m \u001b[0msklearn\u001b[0m\u001b[0;34m.\u001b[0m\u001b[0mexternals\u001b[0m \u001b[0;32mimport\u001b[0m \u001b[0mjoblib\u001b[0m\u001b[0;34m\u001b[0m\u001b[0;34m\u001b[0m\u001b[0m\n\u001b[0m\u001b[1;32m     10\u001b[0m \u001b[0;32mfrom\u001b[0m \u001b[0msklearn\u001b[0m\u001b[0;34m.\u001b[0m\u001b[0mmetrics\u001b[0m \u001b[0;32mimport\u001b[0m \u001b[0mmean_absolute_error\u001b[0m\u001b[0;34m\u001b[0m\u001b[0;34m\u001b[0m\u001b[0m\n\u001b[1;32m     11\u001b[0m \u001b[0;34m\u001b[0m\u001b[0m\n",
            "\u001b[0;31mImportError\u001b[0m: cannot import name 'joblib' from 'sklearn.externals' (/usr/local/lib/python3.10/dist-packages/sklearn/externals/__init__.py)",
            "",
            "\u001b[0;31m---------------------------------------------------------------------------\u001b[0;32m\nNOTE: If your import is failing due to a missing package, you can\nmanually install dependencies using either !pip or !apt.\n\nTo view examples of installing some common dependencies, click the\n\"Open Examples\" button below.\n\u001b[0;31m---------------------------------------------------------------------------\u001b[0m\n"
          ],
          "errorDetails": {
            "actions": [
              {
                "action": "open_url",
                "actionText": "Open Examples",
                "url": "/notebooks/snippets/importing_libraries.ipynb"
              }
            ]
          }
        }
      ]
    }
  ]
}