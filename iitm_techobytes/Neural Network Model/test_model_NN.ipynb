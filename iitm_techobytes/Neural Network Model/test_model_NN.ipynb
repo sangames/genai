{
  "nbformat": 4,
  "nbformat_minor": 0,
  "metadata": {
    "colab": {
      "name": "Untitled6.ipynb",
      "provenance": [],
      "include_colab_link": true
    },
    "kernelspec": {
      "name": "python3",
      "display_name": "Python 3"
    }
  },
  "cells": [
    {
      "cell_type": "markdown",
      "metadata": {
        "id": "view-in-github",
        "colab_type": "text"
      },
      "source": [
        "<a href=\"https://colab.research.google.com/github/sangames/genai/blob/main/iitm_techobytes/Neural%20Network%20Model/test_model_NN.ipynb\" target=\"_parent\"><img src=\"https://colab.research.google.com/assets/colab-badge.svg\" alt=\"Open In Colab\"/></a>"
      ]
    },
    {
      "cell_type": "code",
      "metadata": {
        "id": "25fZh19_Csar",
        "colab": {
          "base_uri": "https://localhost:8080/"
        },
        "outputId": "f7c465e4-77a8-4d29-aaa9-acab2c23e848"
      },
      "source": [
        "!git clone https://github.com/Jaish19/Artificial-Intelligence.git"
      ],
      "execution_count": 1,
      "outputs": [
        {
          "output_type": "stream",
          "name": "stdout",
          "text": [
            "Cloning into 'Artificial-Intelligence'...\n",
            "remote: Enumerating objects: 1740, done.\u001b[K\n",
            "remote: Counting objects: 100% (69/69), done.\u001b[K\n",
            "remote: Compressing objects: 100% (68/68), done.\u001b[K\n",
            "remote: Total 1740 (delta 31), reused 0 (delta 0), pack-reused 1671 (from 1)\u001b[K\n",
            "Receiving objects: 100% (1740/1740), 32.27 MiB | 15.68 MiB/s, done.\n",
            "Resolving deltas: 100% (166/166), done.\n"
          ]
        }
      ]
    },
    {
      "cell_type": "code",
      "metadata": {
        "id": "XgBR5tyJCvr8",
        "colab": {
          "base_uri": "https://localhost:8080/",
          "height": 411
        },
        "outputId": "2d147ce2-9e4f-4baf-e27d-d8a498d2b35c"
      },
      "source": [
        "import joblib\n",
        "import tensorflow as tf\n",
        "from tensorflow import keras\n",
        "\n",
        "# Load our trained model\n",
        "model = keras.models.load_model('/content/Artificial-Intelligence/Neural Network Model/house_value_model.h5')\n",
        "\n",
        "# Load the data scalers so that we can transform new data and prediction the same way as training data.\n",
        "X_scaler = joblib.load('/content/Artificial-Intelligence/Neural Network Model/X_scaler.pkl')\n",
        "y_scaler = joblib.load('/content/Artificial-Intelligence/Neural Network Model/y_scaler.pkl')\n",
        "\n",
        "# Define the house that we want to value (with the values in the same order as in the training data).\n",
        "house_1 = [\n",
        "    2000,  # Size in Square Feet\n",
        "    3,  # Number of Bedrooms\n",
        "    2,  # Number of Bathrooms\n",
        "]\n",
        "\n",
        "# Keras assumes we want to predict the values for multiple of houses at once, so it expects an array.\n",
        "# We only want to value a single house, so it will be the only item in our array.\n",
        "homes = [\n",
        "    house_1\n",
        "]\n",
        "\n",
        "# Scale the new data like the training data\n",
        "scaled_home_data = X_scaler.transform(homes)\n",
        "\n",
        "# Make a prediction for each house in the homes array (but we only have one)\n",
        "home_values = model.predict(scaled_home_data)\n",
        "\n",
        "# The prediction from the neural network will be scaled 0 to 1 just like the training data\n",
        "# We need to unscale it using the same factor as we used to scale the training data\n",
        "unscaled_home_values = y_scaler.inverse_transform(home_values)\n",
        "\n",
        "# Since we are only predicting the price of one house, grab the first prediction returned\n",
        "predicted_value = unscaled_home_values[0][0]\n",
        "\n",
        "# Print the results\n",
        "print(\"House details:\")\n",
        "print(f\"- {house_1[0]} sq feet\")\n",
        "print(f\"- {house_1[1]} bedrooms\")\n",
        "print(f\"- {house_1[2]} bathrooms\")\n",
        "print(f\"Estimated value: ${predicted_value:,.2f}\")"
      ],
      "execution_count": 2,
      "outputs": [
        {
          "output_type": "error",
          "ename": "ImportError",
          "evalue": "cannot import name 'joblib' from 'sklearn.externals' (/usr/local/lib/python3.10/dist-packages/sklearn/externals/__init__.py)",
          "traceback": [
            "\u001b[0;31m---------------------------------------------------------------------------\u001b[0m",
            "\u001b[0;31mImportError\u001b[0m                               Traceback (most recent call last)",
            "\u001b[0;32m<ipython-input-2-06cac9032681>\u001b[0m in \u001b[0;36m<cell line: 1>\u001b[0;34m()\u001b[0m\n\u001b[0;32m----> 1\u001b[0;31m \u001b[0;32mfrom\u001b[0m \u001b[0msklearn\u001b[0m\u001b[0;34m.\u001b[0m\u001b[0mexternals\u001b[0m \u001b[0;32mimport\u001b[0m \u001b[0mjoblib\u001b[0m\u001b[0;34m\u001b[0m\u001b[0;34m\u001b[0m\u001b[0m\n\u001b[0m\u001b[1;32m      2\u001b[0m \u001b[0;32mimport\u001b[0m \u001b[0mtensorflow\u001b[0m \u001b[0;32mas\u001b[0m \u001b[0mtf\u001b[0m\u001b[0;34m\u001b[0m\u001b[0;34m\u001b[0m\u001b[0m\n\u001b[1;32m      3\u001b[0m \u001b[0;32mfrom\u001b[0m \u001b[0mtensorflow\u001b[0m \u001b[0;32mimport\u001b[0m \u001b[0mkeras\u001b[0m\u001b[0;34m\u001b[0m\u001b[0;34m\u001b[0m\u001b[0m\n\u001b[1;32m      4\u001b[0m \u001b[0;34m\u001b[0m\u001b[0m\n\u001b[1;32m      5\u001b[0m \u001b[0;31m# Load our trained model\u001b[0m\u001b[0;34m\u001b[0m\u001b[0;34m\u001b[0m\u001b[0m\n",
            "\u001b[0;31mImportError\u001b[0m: cannot import name 'joblib' from 'sklearn.externals' (/usr/local/lib/python3.10/dist-packages/sklearn/externals/__init__.py)",
            "",
            "\u001b[0;31m---------------------------------------------------------------------------\u001b[0;32m\nNOTE: If your import is failing due to a missing package, you can\nmanually install dependencies using either !pip or !apt.\n\nTo view examples of installing some common dependencies, click the\n\"Open Examples\" button below.\n\u001b[0;31m---------------------------------------------------------------------------\u001b[0m\n"
          ],
          "errorDetails": {
            "actions": [
              {
                "action": "open_url",
                "actionText": "Open Examples",
                "url": "/notebooks/snippets/importing_libraries.ipynb"
              }
            ]
          }
        }
      ]
    }
  ]
}